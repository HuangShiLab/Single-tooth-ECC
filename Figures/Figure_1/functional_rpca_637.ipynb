{
 "cells": [
  {
   "cell_type": "markdown",
   "metadata": {},
   "source": [
    "# Phylo-CTF-analysis-ASV"
   ]
  },
  {
   "cell_type": "markdown",
   "metadata": {},
   "source": [
    "**Note**: This notebook assumes you have installed [QIIME2](https://qiime2.org/) using one of the procedures in the [install documents](https://docs.qiime2.org/2020.2/install/). This tutorial also assumed you have installed, [Qurro](https://github.com/biocore/qurro), [DEICODE](https://github.com/biocore/DEICODE), and [gemelli](https://github.com/biocore/gemelli).\n",
    "\n",
    "First, we will make a tutorial directory and download the data above and move the files to the `ECC2P/data` directory:\n",
    "\n",
    "```bash\n",
    "mkdir ECC2P\n",
    "```\n",
    "```bash\n",
    "# move downloaded data here\n",
    "mkdir ECC2P/data\n",
    "```\n",
    "\n",
    "First we will import our data with the QIIME2 Python API. \n"
   ]
  },
  {
   "cell_type": "code",
   "execution_count": 1,
   "metadata": {},
   "outputs": [],
   "source": [
    "# ! pip install gemelli\n",
    "# ! pip install deicode \n",
    "# ! pip install qurro\n",
    "# ! pip install empres"
   ]
  },
  {
   "cell_type": "code",
   "execution_count": 2,
   "metadata": {},
   "outputs": [
    {
     "name": "stdout",
     "output_type": "stream",
     "text": [
      "Traceback (most recent call last):\n",
      "  File \"/Users/zhangyf/opt/anaconda3/envs/qiime2-2023.5/bin/qiime\", line 11, in <module>\n",
      "    sys.exit(qiime())\n",
      "  File \"/Users/zhangyf/opt/anaconda3/envs/qiime2-2023.5/lib/python3.8/site-packages/click/core.py\", line 1130, in __call__\n",
      "    return self.main(*args, **kwargs)\n",
      "  File \"/Users/zhangyf/opt/anaconda3/envs/qiime2-2023.5/lib/python3.8/site-packages/click/core.py\", line 1055, in main\n",
      "    rv = self.invoke(ctx)\n",
      "  File \"/Users/zhangyf/opt/anaconda3/envs/qiime2-2023.5/lib/python3.8/site-packages/click/core.py\", line 1657, in invoke\n",
      "    return _process_result(sub_ctx.command.invoke(sub_ctx))\n",
      "  File \"/Users/zhangyf/opt/anaconda3/envs/qiime2-2023.5/lib/python3.8/site-packages/click/core.py\", line 1657, in invoke\n",
      "    return _process_result(sub_ctx.command.invoke(sub_ctx))\n",
      "  File \"/Users/zhangyf/opt/anaconda3/envs/qiime2-2023.5/lib/python3.8/site-packages/click/core.py\", line 1404, in invoke\n",
      "    return ctx.invoke(self.callback, **ctx.params)\n",
      "  File \"/Users/zhangyf/opt/anaconda3/envs/qiime2-2023.5/lib/python3.8/site-packages/click/core.py\", line 760, in invoke\n",
      "    return __callback(*args, **kwargs)\n",
      "  File \"/Users/zhangyf/opt/anaconda3/envs/qiime2-2023.5/lib/python3.8/site-packages/q2cli/builtin/tools.py\", line 274, in import_data\n",
      "    artifact.save(output_path)\n",
      "  File \"/Users/zhangyf/opt/anaconda3/envs/qiime2-2023.5/lib/python3.8/site-packages/qiime2/sdk/result.py\", line 231, in save\n",
      "    self._archiver.save(filepath)\n",
      "  File \"/Users/zhangyf/opt/anaconda3/envs/qiime2-2023.5/lib/python3.8/site-packages/qiime2/core/archive/archiver.py\", line 462, in save\n",
      "    _ZipArchive.save(self.path, filepath)\n",
      "  File \"/Users/zhangyf/opt/anaconda3/envs/qiime2-2023.5/lib/python3.8/site-packages/qiime2/core/archive/archiver.py\", line 151, in save\n",
      "    with zipfile.ZipFile(str(destination), mode='w',\n",
      "  File \"/Users/zhangyf/opt/anaconda3/envs/qiime2-2023.5/lib/python3.8/zipfile.py\", line 1251, in __init__\n",
      "    self.fp = io.open(file, filemode)\n",
      "FileNotFoundError: [Errno 2] No such file or directory: '../../Results/Dist_matrix/637_functional_kos_count_table.qza'\n",
      "\u001b[0m"
     ]
    }
   ],
   "source": [
    "!qiime tools import \\\n",
    "    --input-path ../../Data/637/function/637_functional_kos_count_table.biom \\\n",
    "    --output-path ../../Results/Dist_matrix/637_functional_kos_count_table.qza \\\n",
    "    --type \"FeatureTable[Frequency]\" "
   ]
  },
  {
   "cell_type": "code",
   "execution_count": 3,
   "metadata": {},
   "outputs": [
    {
     "ename": "ValueError",
     "evalue": "../../Results/Dist_matrix/637_functional_kos_count_table.qza does not exist.",
     "output_type": "error",
     "traceback": [
      "\u001b[0;31m---------------------------------------------------------------------------\u001b[0m",
      "\u001b[0;31mValueError\u001b[0m                                Traceback (most recent call last)",
      "Cell \u001b[0;32mIn[3], line 14\u001b[0m\n\u001b[1;32m     11\u001b[0m warnings\u001b[38;5;241m.\u001b[39msimplefilter(action\u001b[38;5;241m=\u001b[39m\u001b[38;5;124m'\u001b[39m\u001b[38;5;124mignore\u001b[39m\u001b[38;5;124m'\u001b[39m, category\u001b[38;5;241m=\u001b[39m\u001b[38;5;167;01mFutureWarning\u001b[39;00m)\n\u001b[1;32m     13\u001b[0m \u001b[38;5;66;03m# import table(s)\u001b[39;00m\n\u001b[0;32m---> 14\u001b[0m table \u001b[38;5;241m=\u001b[39m \u001b[43mq2\u001b[49m\u001b[38;5;241;43m.\u001b[39;49m\u001b[43mArtifact\u001b[49m\u001b[38;5;241;43m.\u001b[39;49m\u001b[43mload\u001b[49m\u001b[43m(\u001b[49m\u001b[38;5;124;43m'\u001b[39;49m\u001b[38;5;124;43m../../Results/Dist_matrix/637_functional_kos_count_table.qza\u001b[39;49m\u001b[38;5;124;43m'\u001b[39;49m\u001b[43m)\u001b[49m\n\u001b[1;32m     15\u001b[0m \u001b[38;5;66;03m# import metadata\u001b[39;00m\n\u001b[1;32m     16\u001b[0m metadata \u001b[38;5;241m=\u001b[39m q2\u001b[38;5;241m.\u001b[39mMetadata\u001b[38;5;241m.\u001b[39mload(\u001b[38;5;124m'\u001b[39m\u001b[38;5;124m../../Data/637/function/637_functional_metadata.txt\u001b[39m\u001b[38;5;124m'\u001b[39m)\n",
      "File \u001b[0;32m~/opt/anaconda3/envs/qiime2-2023.5/lib/python3.8/site-packages/qiime2/sdk/result.py:75\u001b[0m, in \u001b[0;36mResult.load\u001b[0;34m(cls, filepath)\u001b[0m\n\u001b[1;32m     71\u001b[0m \u001b[38;5;66;03m# Check if the data is already in the cache (if the uuid is in\u001b[39;00m\n\u001b[1;32m     72\u001b[0m \u001b[38;5;66;03m# cache.data) and load it from the cache if it is. Avoids unzipping the\u001b[39;00m\n\u001b[1;32m     73\u001b[0m \u001b[38;5;66;03m# qza again if we already have it.\u001b[39;00m\n\u001b[1;32m     74\u001b[0m cache \u001b[38;5;241m=\u001b[39m get_cache()\n\u001b[0;32m---> 75\u001b[0m peek \u001b[38;5;241m=\u001b[39m \u001b[38;5;28;43mcls\u001b[39;49m\u001b[38;5;241;43m.\u001b[39;49m\u001b[43mpeek\u001b[49m\u001b[43m(\u001b[49m\u001b[43mfilepath\u001b[49m\u001b[43m)\u001b[49m\n\u001b[1;32m     76\u001b[0m archiver \u001b[38;5;241m=\u001b[39m cache\u001b[38;5;241m.\u001b[39m_load_uuid(peek\u001b[38;5;241m.\u001b[39muuid)\n\u001b[1;32m     78\u001b[0m \u001b[38;5;28;01mif\u001b[39;00m \u001b[38;5;129;01mnot\u001b[39;00m archiver:\n",
      "File \u001b[0;32m~/opt/anaconda3/envs/qiime2-2023.5/lib/python3.8/site-packages/qiime2/sdk/result.py:59\u001b[0m, in \u001b[0;36mResult.peek\u001b[0;34m(cls, filepath)\u001b[0m\n\u001b[1;32m     57\u001b[0m \u001b[38;5;129m@classmethod\u001b[39m\n\u001b[1;32m     58\u001b[0m \u001b[38;5;28;01mdef\u001b[39;00m \u001b[38;5;21mpeek\u001b[39m(\u001b[38;5;28mcls\u001b[39m, filepath):\n\u001b[0;32m---> 59\u001b[0m     \u001b[38;5;28;01mreturn\u001b[39;00m ResultMetadata(\u001b[38;5;241m*\u001b[39m\u001b[43marchive\u001b[49m\u001b[38;5;241;43m.\u001b[39;49m\u001b[43mArchiver\u001b[49m\u001b[38;5;241;43m.\u001b[39;49m\u001b[43mpeek\u001b[49m\u001b[43m(\u001b[49m\u001b[43mfilepath\u001b[49m\u001b[43m)\u001b[49m)\n",
      "File \u001b[0;32m~/opt/anaconda3/envs/qiime2-2023.5/lib/python3.8/site-packages/qiime2/core/archive/archiver.py:336\u001b[0m, in \u001b[0;36mArchiver.peek\u001b[0;34m(cls, filepath)\u001b[0m\n\u001b[1;32m    334\u001b[0m \u001b[38;5;129m@classmethod\u001b[39m\n\u001b[1;32m    335\u001b[0m \u001b[38;5;28;01mdef\u001b[39;00m \u001b[38;5;21mpeek\u001b[39m(\u001b[38;5;28mcls\u001b[39m, filepath):\n\u001b[0;32m--> 336\u001b[0m     archive \u001b[38;5;241m=\u001b[39m \u001b[38;5;28;43mcls\u001b[39;49m\u001b[38;5;241;43m.\u001b[39;49m\u001b[43mget_archive\u001b[49m\u001b[43m(\u001b[49m\u001b[43mfilepath\u001b[49m\u001b[43m)\u001b[49m\n\u001b[1;32m    337\u001b[0m     Format \u001b[38;5;241m=\u001b[39m \u001b[38;5;28mcls\u001b[39m\u001b[38;5;241m.\u001b[39mget_format_class(archive\u001b[38;5;241m.\u001b[39mversion)\n\u001b[1;32m    338\u001b[0m     \u001b[38;5;28;01mif\u001b[39;00m Format \u001b[38;5;129;01mis\u001b[39;00m \u001b[38;5;28;01mNone\u001b[39;00m:\n",
      "File \u001b[0;32m~/opt/anaconda3/envs/qiime2-2023.5/lib/python3.8/site-packages/qiime2/core/archive/archiver.py:315\u001b[0m, in \u001b[0;36mArchiver.get_archive\u001b[0;34m(cls, filepath)\u001b[0m\n\u001b[1;32m    313\u001b[0m filepath \u001b[38;5;241m=\u001b[39m pathlib\u001b[38;5;241m.\u001b[39mPath(filepath)\n\u001b[1;32m    314\u001b[0m \u001b[38;5;28;01mif\u001b[39;00m \u001b[38;5;129;01mnot\u001b[39;00m filepath\u001b[38;5;241m.\u001b[39mexists():\n\u001b[0;32m--> 315\u001b[0m     \u001b[38;5;28;01mraise\u001b[39;00m \u001b[38;5;167;01mValueError\u001b[39;00m(\u001b[38;5;124m\"\u001b[39m\u001b[38;5;132;01m%s\u001b[39;00m\u001b[38;5;124m does not exist.\u001b[39m\u001b[38;5;124m\"\u001b[39m \u001b[38;5;241m%\u001b[39m filepath)\n\u001b[1;32m    317\u001b[0m \u001b[38;5;28;01mif\u001b[39;00m _ZipArchive\u001b[38;5;241m.\u001b[39mis_archive_type(filepath):\n\u001b[1;32m    318\u001b[0m     archive \u001b[38;5;241m=\u001b[39m _ZipArchive(filepath)\n",
      "\u001b[0;31mValueError\u001b[0m: ../../Results/Dist_matrix/637_functional_kos_count_table.qza does not exist."
     ]
    }
   ],
   "source": [
    "import os\n",
    "import warnings\n",
    "import qiime2 as q2\n",
    "import pandas as pd\n",
    "from qiime2.plugins.feature_table.actions import filter_seqs\n",
    "from qiime2.plugins.feature_table.actions import filter_samples\n",
    "from qiime2.plugins.feature_table.actions import summarize\n",
    "\n",
    "# hide pandas Future/Deprecation Warning(s) for tutorial\n",
    "warnings.filterwarnings(\"ignore\", category=DeprecationWarning) \n",
    "warnings.simplefilter(action='ignore', category=FutureWarning)\n",
    "\n",
    "# import table(s)\n",
    "table = q2.Artifact.load('../../Results/Dist_matrix/637_functional_kos_count_table.qza')\n",
    "# import metadata\n",
    "metadata = q2.Metadata.load('../../Data/637/function/637_functional_metadata.txt')\n",
    "# make directory to store results\n",
    "output_path = '../../Results/Dist_matrix/637_functional_rPCA'\n",
    "if not os.path.exists(output_path): \n",
    "    os.mkdir(output_path)"
   ]
  },
  {
   "cell_type": "markdown",
   "metadata": {},
   "source": [
    "\n",
    "Next, we will demonstrate the issues with using conventional dimensionality reduction methods on time series data. To do this we will perform PCoA dimensionality reduction on weighted and unweighted UniFrac $\\beta$-diversity distances. We will also run Aitchison Robust PCA with _DEICODE_ which is built on the same framework as CTF but does not account for repeated measures.\n"
   ]
  },
  {
   "cell_type": "markdown",
   "metadata": {},
   "source": [
    "### Sample filtering based on the metadata"
   ]
  },
  {
   "cell_type": "code",
   "execution_count": 4,
   "metadata": {},
   "outputs": [
    {
     "data": {
      "text/plain": [
       "(637, 3996)"
      ]
     },
     "execution_count": 4,
     "metadata": {},
     "output_type": "execute_result"
    }
   ],
   "source": [
    "table.view(pd.DataFrame).shape"
   ]
  },
  {
   "cell_type": "markdown",
   "metadata": {},
   "source": [
    "### RPCA based on all samples"
   ]
  },
  {
   "cell_type": "code",
   "execution_count": 5,
   "metadata": {},
   "outputs": [
    {
     "data": {
      "text/plain": [
       "'../../Results/Dist_matrix/637_functional_rPCA/RPCA-biplot.qzv'"
      ]
     },
     "execution_count": 5,
     "metadata": {},
     "output_type": "execute_result"
    }
   ],
   "source": [
    "from qiime2.plugins.deicode.actions import rpca\n",
    "from qiime2.plugins.emperor.actions import (plot, biplot)\n",
    "from qiime2.plugins.diversity.actions import (beta_phylogenetic, pcoa, beta_group_significance)\n",
    "\n",
    "# run RPCA and plot with emperor\n",
    "rpca_biplot, rpca_distance = rpca(table)\n",
    "rpca_biplot_emperor = biplot(rpca_biplot, metadata)\n",
    "# now we can save the plots\n",
    "rpca_biplot.save(os.path.join(output_path, 'rpca.biplot.qza'))\n",
    "rpca_distance.save(os.path.join(output_path, 'rpca.dist.qza'))\n",
    "rpca_biplot_emperor.visualization.save(os.path.join(output_path, 'RPCA-biplot.qzv'))\n"
   ]
  },
  {
   "cell_type": "code",
   "execution_count": null,
   "metadata": {},
   "outputs": [],
   "source": [
    "from skbio.stats.distance import DistanceMatrix\n",
    "distance_matrix = rpca_distance.distance_matrix.view(DistanceMatrix)\n",
    "distance_df = distance_matrix.to_data_frame()\n",
    "distance_df.to_csv(os.path.join(output_path, '637_functional_rpca_dist.txt'), sep='\\t', index=True)"
   ]
  },
  {
   "cell_type": "code",
   "execution_count": 6,
   "metadata": {},
   "outputs": [],
   "source": [
    "from skbio import OrdinationResults\n",
    "\n",
    "# 提取样本的主坐标数据\n",
    "sample_coords = rpca_biplot.view(OrdinationResults).samples\n",
    "\n",
    "# 重命名列为 PC1, PC2, PC3 等\n",
    "sample_coords = sample_coords.rename(columns={0: 'PC1', 1: 'PC2', 2: 'PC3'})\n",
    "\n",
    "# 添加索引名称 (样本ID)\n",
    "sample_coords.index.name = 'SampleID'\n",
    "\n",
    "# 显示提取后的结果\n",
    "sample_coords.head(5)\n",
    "\n",
    "sample_coords.to_csv(os.path.join(output_path,'637_functional_rpca_sample_coordinates.tsv'), sep = \"\\t\", index=True)"
   ]
  }
 ],
 "metadata": {
  "kernelspec": {
   "display_name": "qiime2-2023.5",
   "language": "python",
   "name": "python3"
  },
  "language_info": {
   "codemirror_mode": {
    "name": "ipython",
    "version": 3
   },
   "file_extension": ".py",
   "mimetype": "text/x-python",
   "name": "python",
   "nbconvert_exporter": "python",
   "pygments_lexer": "ipython3",
   "version": "3.8.16"
  }
 },
 "nbformat": 4,
 "nbformat_minor": 2
}
