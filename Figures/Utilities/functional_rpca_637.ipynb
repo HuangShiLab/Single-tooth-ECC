{
 "cells": [
  {
   "cell_type": "markdown",
   "metadata": {},
   "source": [
    "# Phylo-CTF-analysis-ASV"
   ]
  },
  {
   "cell_type": "markdown",
   "metadata": {},
   "source": [
    "**Note**: This notebook assumes you have installed [QIIME2](https://qiime2.org/) using one of the procedures in the [install documents](https://docs.qiime2.org/2020.2/install/). This tutorial also assumed you have installed, [Qurro](https://github.com/biocore/qurro), [DEICODE](https://github.com/biocore/DEICODE), and [gemelli](https://github.com/biocore/gemelli).\n",
    "\n",
    "First, we will make a tutorial directory and download the data above and move the files to the `ECC2P/data` directory:\n",
    "\n",
    "```bash\n",
    "mkdir ECC2P\n",
    "```\n",
    "```bash\n",
    "# move downloaded data here\n",
    "mkdir ECC2P/data\n",
    "```\n",
    "\n",
    "First we will import our data with the QIIME2 Python API. \n"
   ]
  },
  {
   "cell_type": "code",
   "execution_count": 27,
   "metadata": {},
   "outputs": [],
   "source": [
    "# ! pip install gemelli\n",
    "# ! pip install deicode \n",
    "# ! pip install qurro\n",
    "# ! pip install empres"
   ]
  },
  {
   "cell_type": "code",
   "execution_count": 28,
   "metadata": {},
   "outputs": [
    {
     "name": "stdout",
     "output_type": "stream",
     "text": [
      "\u001b[32mImported ../../Results/Feature_table/637_functional_kos_count_table.biom as BIOMV210DirFmt to ../../Results/Feature_table/637_functional_kos_count_table.qza\u001b[0m\n",
      "\u001b[0m"
     ]
    }
   ],
   "source": [
    "!mkdir -p ../../Results/Feature_table\n",
    "!mkdir -p ../../Results/Dist_matrix\n",
    "\n",
    "!biom convert \\\n",
    "    -i ../../Data/637/function/637_functional_kos_count_table.tsv \\\n",
    "    -o ../../Results/Feature_table/637_functional_kos_count_table.biom \\\n",
    "    --to-hdf5 \\\n",
    "    --table-type \"OTU table\"\n",
    "\n",
    "!qiime tools import \\\n",
    "    --input-path ../../Results/Feature_table/637_functional_kos_count_table.biom \\\n",
    "    --output-path ../../Results/Feature_table/637_functional_kos_count_table.qza \\\n",
    "    --type \"FeatureTable[Frequency]\" "
   ]
  },
  {
   "cell_type": "code",
   "execution_count": 29,
   "metadata": {},
   "outputs": [],
   "source": [
    "import os\n",
    "import warnings\n",
    "import qiime2 as q2\n",
    "import pandas as pd\n",
    "from qiime2.plugins.feature_table.actions import filter_seqs\n",
    "from qiime2.plugins.feature_table.actions import filter_samples\n",
    "from qiime2.plugins.feature_table.actions import summarize\n",
    "\n",
    "# hide pandas Future/Deprecation Warning(s) for tutorial\n",
    "warnings.filterwarnings(\"ignore\", category=DeprecationWarning) \n",
    "warnings.simplefilter(action='ignore', category=FutureWarning)\n",
    "\n",
    "# import table(s)\n",
    "table = q2.Artifact.load('../../Results/Feature_table/637_functional_kos_count_table.qza')\n",
    "# import metadata\n",
    "metadata = q2.Metadata.load('../../Data/637/637_metadata.txt')\n",
    "# make directory to store results\n",
    "output_path = '../../Results/Dist_matrix/637_functional_rPCA'\n",
    "if not os.path.exists(output_path): \n",
    "    os.mkdir(output_path)"
   ]
  },
  {
   "cell_type": "markdown",
   "metadata": {},
   "source": [
    "\n",
    "Next, we will demonstrate the issues with using conventional dimensionality reduction methods on time series data. To do this we will perform PCoA dimensionality reduction on weighted and unweighted UniFrac $\\beta$-diversity distances. We will also run Aitchison Robust PCA with _DEICODE_ which is built on the same framework as CTF but does not account for repeated measures.\n"
   ]
  },
  {
   "cell_type": "markdown",
   "metadata": {},
   "source": [
    "### Sample filtering based on the metadata"
   ]
  },
  {
   "cell_type": "code",
   "execution_count": 30,
   "metadata": {},
   "outputs": [
    {
     "data": {
      "text/plain": [
       "(637, 3996)"
      ]
     },
     "execution_count": 30,
     "metadata": {},
     "output_type": "execute_result"
    }
   ],
   "source": [
    "table.view(pd.DataFrame).shape"
   ]
  },
  {
   "cell_type": "markdown",
   "metadata": {},
   "source": [
    "### RPCA based on all samples"
   ]
  },
  {
   "cell_type": "code",
   "execution_count": 31,
   "metadata": {},
   "outputs": [
    {
     "data": {
      "text/plain": [
       "'../../Results/Dist_matrix/637_functional_rPCA/RPCA-biplot.qzv'"
      ]
     },
     "execution_count": 31,
     "metadata": {},
     "output_type": "execute_result"
    }
   ],
   "source": [
    "from qiime2.plugins.deicode.actions import rpca\n",
    "from qiime2.plugins.emperor.actions import (plot, biplot)\n",
    "from qiime2.plugins.diversity.actions import (beta_phylogenetic, pcoa, beta_group_significance)\n",
    "\n",
    "# run RPCA and plot with emperor\n",
    "rpca_biplot, rpca_distance = rpca(table)\n",
    "rpca_biplot_emperor = biplot(rpca_biplot, metadata)\n",
    "# now we can save the plots\n",
    "rpca_biplot.save(os.path.join(output_path, 'rpca.biplot.qza'))\n",
    "rpca_distance.save(os.path.join(output_path, 'rpca.dist.qza'))\n",
    "rpca_biplot_emperor.visualization.save(os.path.join(output_path, 'RPCA-biplot.qzv'))\n"
   ]
  },
  {
   "cell_type": "code",
   "execution_count": 32,
   "metadata": {},
   "outputs": [],
   "source": [
    "from skbio.stats.distance import DistanceMatrix\n",
    "distance_matrix = rpca_distance.view(DistanceMatrix)\n",
    "distance_df = distance_matrix.to_data_frame()\n",
    "distance_df.to_csv(os.path.join(output_path, '637_functional_rpca_dist.txt'), sep='\\t', index=True)"
   ]
  },
  {
   "cell_type": "code",
   "execution_count": 33,
   "metadata": {},
   "outputs": [],
   "source": [
    "from skbio import OrdinationResults\n",
    "\n",
    "sample_coords = rpca_biplot.view(OrdinationResults).samples\n",
    "sample_coords = sample_coords.rename(columns={0: 'PC1', 1: 'PC2', 2: 'PC3'})\n",
    "sample_coords.index.name = 'SampleID'\n",
    "sample_coords.head(5)\n",
    "\n",
    "sample_coords.to_csv(os.path.join(output_path,'637_functional_rpca_sample_coordinates.tsv'), sep = \"\\t\", index=True)"
   ]
  }
 ],
 "metadata": {
  "kernelspec": {
   "display_name": "qiime2-2023.5",
   "language": "python",
   "name": "python3"
  },
  "language_info": {
   "codemirror_mode": {
    "name": "ipython",
    "version": 3
   },
   "file_extension": ".py",
   "mimetype": "text/x-python",
   "name": "python",
   "nbconvert_exporter": "python",
   "pygments_lexer": "ipython3",
   "version": "3.8.16"
  }
 },
 "nbformat": 4,
 "nbformat_minor": 2
}
