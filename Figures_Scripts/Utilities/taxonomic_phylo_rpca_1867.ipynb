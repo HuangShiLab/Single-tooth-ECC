{
 "cells": [
  {
   "cell_type": "markdown",
   "metadata": {},
   "source": [
    "# Phylo-CTF-analysis-ASV"
   ]
  },
  {
   "cell_type": "markdown",
   "metadata": {},
   "source": [
    "**Note**: This notebook assumes you have installed [QIIME2](https://qiime2.org/) using one of the procedures in the [install documents](https://docs.qiime2.org/2020.2/install/). This tutorial also assumed you have installed, [Qurro](https://github.com/biocore/qurro), [DEICODE](https://github.com/biocore/DEICODE), and [gemelli](https://github.com/biocore/gemelli).\n",
    "\n",
    "First, we will make a tutorial directory and download the data above and move the files to the `Single-tooth-ECC/Data`， the results will be saved in the `Single-tooth-ECC/Results/Dist_matrix`:\n",
    "\n",
    "```bash\n",
    "mkdir -p ../../Results/Dist_matrix\n",
    "```\n",
    "\n",
    "First we will import our data with the QIIME2 Python API. \n"
   ]
  },
  {
   "cell_type": "code",
   "execution_count": 1,
   "metadata": {},
   "outputs": [],
   "source": [
    "# ! pip install gemelli\n",
    "# ! pip install deicod\n",
    "# ! pip install qurro\n",
    "# ! pip install empress"
   ]
  },
  {
   "cell_type": "code",
   "execution_count": 2,
   "metadata": {},
   "outputs": [
    {
     "name": "stdout",
     "output_type": "stream",
     "text": [
      "\u001b[32mImported ../../Data/1867/taxonomy/1867_taxonomic_ASV_count_table.biom as BIOMV210DirFmt to ../../Results/Feature_table/1867_taxonomic_ASV_count_table.qza\u001b[0m\n",
      "\u001b[0m\u001b[32mImported ../../Data/1867/taxonomy/1867_taxonomic_feature_taxon_SILVA.txt as TSVTaxonomyDirectoryFormat to ../../Results/Feature_table/1867_taxonomic_feature_taxonomy.qza\u001b[0m\n",
      "\u001b[0m"
     ]
    }
   ],
   "source": [
    "!mkdir -p ../../Results/Feature_table\n",
    "!mkdir -p ../../Results/Dist_matrix\n",
    "\n",
    "! qiime tools import \\\n",
    "    --type 'FeatureTable[Frequency]' \\\n",
    "    --input-path ../../Data/1867/taxonomy/1867_taxonomic_ASV_count_table.biom \\\n",
    "    --output-path ../../Results/Feature_table/1867_taxonomic_ASV_count_table.qza\n",
    "\n",
    "! qiime tools import \\\n",
    "  --type 'FeatureData[Taxonomy]' \\\n",
    "  --input-path ../../Data/1867/taxonomy/1867_taxonomic_feature_taxon_SILVA.txt \\\n",
    "  --output-path ../../Results/Feature_table/1867_taxonomic_feature_taxonomy.qza"
   ]
  },
  {
   "cell_type": "code",
   "execution_count": 3,
   "metadata": {},
   "outputs": [],
   "source": [
    "import os\n",
    "import warnings\n",
    "import qiime2 as q2\n",
    "from qiime2.plugins.deicode.actions import rpca\n",
    "from qiime2.plugins.emperor.actions import (plot, biplot)\n",
    "from qiime2.plugins.diversity.actions import (beta_phylogenetic, pcoa, beta_group_significance)\n",
    "\n",
    "# hide pandas Future/Deprecation Warning(s) for tutorial\n",
    "warnings.filterwarnings(\"ignore\", category=DeprecationWarning) \n",
    "warnings.simplefilter(action='ignore', category=FutureWarning)\n",
    "\n",
    "# import table(s)\n",
    "table = q2.Artifact.load('../../Results/Feature_table/1867_taxonomic_ASV_count_table.qza')\n",
    "# import metadata\n",
    "metadata = q2.Metadata.load('../../Data/1867/1867_metadata.txt')\n",
    "# import tree\n",
    "tree = q2.Artifact.load('../../Data/1867/taxonomy/1867_taxonomic_phylogenetic_tree.qza')\n",
    "# import taxonomy\n",
    "taxonomy = q2.Artifact.load('../../Results/Feature_table/1867_taxonomic_feature_taxonomy.qza')\n",
    "# make directory to store results\n",
    "output_path = '../../Results/Dist_matrix/1867_taxonomic_phylo_rPCA'\n",
    "if not os.path.exists(output_path): \n",
    "    os.mkdir(output_path)"
   ]
  },
  {
   "cell_type": "markdown",
   "metadata": {},
   "source": [
    "\n",
    "Next, we will demonstrate the issues with using conventional dimensionality reduction methods on time series data. To do this we will perform PCoA dimensionality reduction on weighted and unweighted UniFrac $\\beta$-diversity distances. We will also run Aitchison Robust PCA with _DEICODE_ which is built on the same framework as CTF but does not account for repeated measures.\n"
   ]
  },
  {
   "cell_type": "markdown",
   "metadata": {},
   "source": [
    "### Sample filtering based on the metadata"
   ]
  },
  {
   "cell_type": "code",
   "execution_count": 4,
   "metadata": {},
   "outputs": [],
   "source": [
    "import pandas as pd\n",
    "from qiime2.plugins.feature_table.actions import filter_seqs\n",
    "from qiime2.plugins.feature_table.actions import filter_samples\n",
    "from qiime2.plugins.feature_table.actions import summarize"
   ]
  },
  {
   "cell_type": "code",
   "execution_count": 5,
   "metadata": {},
   "outputs": [
    {
     "data": {
      "text/plain": [
       "(1867, 18039)"
      ]
     },
     "execution_count": 5,
     "metadata": {},
     "output_type": "execute_result"
    }
   ],
   "source": [
    "table.view(pd.DataFrame).shape"
   ]
  },
  {
   "cell_type": "code",
   "execution_count": 6,
   "metadata": {},
   "outputs": [
    {
     "data": {
      "text/plain": [
       "Metadata\n",
       "--------\n",
       "18054 IDs x 5 columns\n",
       "Taxon:           ColumnProperties(type='categorical', missing_scheme='blank')\n",
       "Confidence:      ColumnProperties(type='categorical', missing_scheme='blank')\n",
       "ASV_ID:          ColumnProperties(type='categorical', missing_scheme='blank')\n",
       "Brief_Taxon:     ColumnProperties(type='categorical', missing_scheme='blank')\n",
       "Brief_Taxon_ASV: ColumnProperties(type='categorical', missing_scheme='blank')\n",
       "\n",
       "Call to_dataframe() for a tabular representation."
      ]
     },
     "execution_count": 6,
     "metadata": {},
     "output_type": "execute_result"
    }
   ],
   "source": [
    "taxonomy.view(q2.Metadata)"
   ]
  },
  {
   "cell_type": "markdown",
   "metadata": {},
   "source": [
    "# Phylogenetic rPCA"
   ]
  },
  {
   "cell_type": "code",
   "execution_count": 7,
   "metadata": {},
   "outputs": [
    {
     "data": {
      "text/plain": [
       "Results (name = value)\n",
       "---------------------------------------------------------------------------------------------------------------\n",
       "biplot              = <artifact: PCoAResults % Properties('biplot') uuid: 0bcd30be-7aa1-4832-87fe-591e863a294c>\n",
       "distance_matrix     = <artifact: DistanceMatrix uuid: a622edb6-f929-4fe3-bd75-f7a60b3f0336>\n",
       "counts_by_node_tree = <artifact: Phylogeny[Rooted] uuid: 942b7df8-726e-4fcf-87b0-69dc00398835>\n",
       "counts_by_node      = <artifact: FeatureTable[Frequency] uuid: df8c8eec-1535-4166-9dc9-3b95f9eae10d>\n",
       "t2t_taxonomy        = <artifact: FeatureData[Taxonomy] uuid: 3e424300-f63c-4ec4-a75d-9f55ca9b17ee>"
      ]
     },
     "execution_count": 7,
     "metadata": {},
     "output_type": "execute_result"
    }
   ],
   "source": [
    "from qiime2.plugins.gemelli.actions import phylogenetic_rpca_with_taxonomy\n",
    "#table = filter_features(table, tree).filtered_table\n",
    "phylo_rpca_results = phylogenetic_rpca_with_taxonomy(table, tree, taxonomy.view(q2.Metadata),\n",
    "                                             min_feature_frequency=10)\n",
    "phylo_rpca_results"
   ]
  },
  {
   "cell_type": "code",
   "execution_count": 8,
   "metadata": {},
   "outputs": [
    {
     "data": {
      "text/plain": [
       "'../../Results/Dist_matrix/1867_taxonomic_phylo_rPCA/phylo_rpca.t2t_taxonomy.qza'"
      ]
     },
     "execution_count": 8,
     "metadata": {},
     "output_type": "execute_result"
    }
   ],
   "source": [
    "phylo_rpca_results.biplot.save(os.path.join(output_path, 'phylo_rpca.biplot.qza'))\n",
    "phylo_rpca_results.distance_matrix.save(os.path.join(output_path, 'phylo_rpca.distance_matrix.qza'))\n",
    "phylo_rpca_results.counts_by_node_tree.save(os.path.join(output_path, 'phylo_rpca.counts_by_node_tree.qza'))\n",
    "phylo_rpca_results.counts_by_node.save(os.path.join(output_path, 'phylo_rpca.counts_by_node.qza'))\n",
    "phylo_rpca_results.t2t_taxonomy.save(os.path.join(output_path, 'phylo_rpca.t2t_taxonomy.qza'))"
   ]
  },
  {
   "cell_type": "code",
   "execution_count": 9,
   "metadata": {},
   "outputs": [
    {
     "data": {
      "text/plain": [
       "'../../Results/Dist_matrix/1867_taxonomic_phylo_rPCA/phylo_RPCA-biplot.qzv'"
      ]
     },
     "execution_count": 9,
     "metadata": {},
     "output_type": "execute_result"
    }
   ],
   "source": [
    "phylo_rpca_biplot_emperor = biplot(phylo_rpca_results.biplot, metadata)\n",
    "phylo_rpca_biplot_emperor.visualization.save(os.path.join(output_path, 'phylo_RPCA-biplot.qzv'))\n"
   ]
  },
  {
   "cell_type": "code",
   "execution_count": 10,
   "metadata": {},
   "outputs": [],
   "source": [
    "from skbio.stats.distance import DistanceMatrix\n",
    "distance_matrix = phylo_rpca_results.distance_matrix.view(DistanceMatrix)\n",
    "distance_df = distance_matrix.to_data_frame()\n",
    "distance_df.to_csv(os.path.join(output_path, '1867_taxonomic_phylo_rpca_dist.txt'), sep='\\t', index=True)"
   ]
  },
  {
   "cell_type": "code",
   "execution_count": 11,
   "metadata": {},
   "outputs": [],
   "source": [
    "from skbio import OrdinationResults\n",
    "\n",
    "sample_coords = phylo_rpca_results.biplot.view(OrdinationResults).samples\n",
    "sample_coords = sample_coords.rename(columns={0: 'PC1', 1: 'PC2', 2: 'PC3'})\n",
    "sample_coords.index.name = 'SampleID'\n",
    "sample_coords.head(5)\n",
    "sample_coords.to_csv(os.path.join(output_path,'1867_taxonomic_phylo_rpca_sample_coordinates.tsv'), sep = \"\\t\", index=True)\n"
   ]
  },
  {
   "cell_type": "code",
   "execution_count": 12,
   "metadata": {},
   "outputs": [
    {
     "data": {
      "text/html": [
       "<div>\n",
       "<style scoped>\n",
       "    .dataframe tbody tr th:only-of-type {\n",
       "        vertical-align: middle;\n",
       "    }\n",
       "\n",
       "    .dataframe tbody tr th {\n",
       "        vertical-align: top;\n",
       "    }\n",
       "\n",
       "    .dataframe thead th {\n",
       "        text-align: right;\n",
       "    }\n",
       "</style>\n",
       "<table border=\"1\" class=\"dataframe\">\n",
       "  <thead>\n",
       "    <tr style=\"text-align: right;\">\n",
       "      <th></th>\n",
       "      <th>Taxon</th>\n",
       "      <th>PC1</th>\n",
       "      <th>PC2</th>\n",
       "      <th>PC3</th>\n",
       "    </tr>\n",
       "    <tr>\n",
       "      <th>featureid</th>\n",
       "      <th></th>\n",
       "      <th></th>\n",
       "      <th></th>\n",
       "      <th></th>\n",
       "    </tr>\n",
       "  </thead>\n",
       "  <tbody>\n",
       "    <tr>\n",
       "      <th>n750</th>\n",
       "      <td>d__Bacteria; p__; c__; o__; f__; g__; s__</td>\n",
       "      <td>-0.035152</td>\n",
       "      <td>-0.002255</td>\n",
       "      <td>0.103146</td>\n",
       "    </tr>\n",
       "    <tr>\n",
       "      <th>n748</th>\n",
       "      <td>d__Bacteria; p__; c__; o__; f__; g__; s__</td>\n",
       "      <td>-0.027883</td>\n",
       "      <td>0.000388</td>\n",
       "      <td>0.075912</td>\n",
       "    </tr>\n",
       "    <tr>\n",
       "      <th>n382</th>\n",
       "      <td>d__Bacteria; p__Actinobacteriota; c__; o__; f_...</td>\n",
       "      <td>-0.051136</td>\n",
       "      <td>0.014808</td>\n",
       "      <td>0.076259</td>\n",
       "    </tr>\n",
       "    <tr>\n",
       "      <th>n77</th>\n",
       "      <td>d__Bacteria; p__Actinobacteriota; c__Actinobac...</td>\n",
       "      <td>-0.046485</td>\n",
       "      <td>0.013843</td>\n",
       "      <td>0.057868</td>\n",
       "    </tr>\n",
       "    <tr>\n",
       "      <th>GTGGGGAATATTGCACAATGGGCGCAAGCCTGATGCAGCGACGCCGCGTGCGGGATGGAGGCCTTCGGGTTGTAAACCGCTTTTATAGGGGGGCAAGCTATGCCTGTGTGGTGTGGTGAGTGGACTTTATGAATAAGCACCGGCTAACTACGTGCCAGCAGCCGCGGTAATACGTAGGGTGCAAGCGTTGTCCGGATTTATTGGGCGTAAAGGGCTCGTAGGCGGTTTGTTGCGTCTGGTGTGAAAGCTT</th>\n",
       "      <td>d__Bacteria; p__Actinobacteriota; c__Actinobac...</td>\n",
       "      <td>0.001634</td>\n",
       "      <td>0.043387</td>\n",
       "      <td>0.033252</td>\n",
       "    </tr>\n",
       "  </tbody>\n",
       "</table>\n",
       "</div>"
      ],
      "text/plain": [
       "                                                                                                Taxon  \\\n",
       "featureid                                                                                               \n",
       "n750                                                        d__Bacteria; p__; c__; o__; f__; g__; s__   \n",
       "n748                                                        d__Bacteria; p__; c__; o__; f__; g__; s__   \n",
       "n382                                                d__Bacteria; p__Actinobacteriota; c__; o__; f_...   \n",
       "n77                                                 d__Bacteria; p__Actinobacteriota; c__Actinobac...   \n",
       "GTGGGGAATATTGCACAATGGGCGCAAGCCTGATGCAGCGACGCCGC...  d__Bacteria; p__Actinobacteriota; c__Actinobac...   \n",
       "\n",
       "                                                         PC1       PC2  \\\n",
       "featureid                                                                \n",
       "n750                                               -0.035152 -0.002255   \n",
       "n748                                               -0.027883  0.000388   \n",
       "n382                                               -0.051136  0.014808   \n",
       "n77                                                -0.046485  0.013843   \n",
       "GTGGGGAATATTGCACAATGGGCGCAAGCCTGATGCAGCGACGCCGC...  0.001634  0.043387   \n",
       "\n",
       "                                                         PC3  \n",
       "featureid                                                     \n",
       "n750                                                0.103146  \n",
       "n748                                                0.075912  \n",
       "n382                                                0.076259  \n",
       "n77                                                 0.057868  \n",
       "GTGGGGAATATTGCACAATGGGCGCAAGCCTGATGCAGCGACGCCGC...  0.033252  "
      ]
     },
     "execution_count": 12,
     "metadata": {},
     "output_type": "execute_result"
    }
   ],
   "source": [
    "# combine feature metadata\n",
    "from skbio import OrdinationResults\n",
    "\n",
    "phylo_rpca_taxonomy = phylo_rpca_results.t2t_taxonomy.view(q2.Metadata).to_dataframe()\n",
    "phylo_rpca_feature_loadings = phylo_rpca_results.biplot.view(OrdinationResults).features.rename({0:'PC1', 1:\"PC2\", 2:\"PC3\"}, axis=1)\n",
    "phylo_rpca_taxonomy_and_loadings = pd.concat([phylo_rpca_taxonomy, phylo_rpca_feature_loadings], axis=1)\n",
    "phylo_rpca_taxonomy_and_loadings.index.name = 'featureid'\n",
    "phylo_rpca_taxonomy_and_loadings.head(5)"
   ]
  }
 ],
 "metadata": {
  "kernelspec": {
   "display_name": "qiime2-2023.5",
   "language": "python",
   "name": "python3"
  },
  "language_info": {
   "codemirror_mode": {
    "name": "ipython",
    "version": 3
   },
   "file_extension": ".py",
   "mimetype": "text/x-python",
   "name": "python",
   "nbconvert_exporter": "python",
   "pygments_lexer": "ipython3",
   "version": "3.8.16"
  }
 },
 "nbformat": 4,
 "nbformat_minor": 2
}
